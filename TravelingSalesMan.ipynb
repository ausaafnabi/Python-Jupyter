{
  "nbformat": 4,
  "nbformat_minor": 0,
  "metadata": {
    "colab": {
      "name": "TravelingSalesMan",
      "provenance": []
    },
    "kernelspec": {
      "name": "python3",
      "display_name": "Python 3"
    }
  },
  "cells": [
    {
      "cell_type": "code",
      "metadata": {
        "id": "3qFm9tVIwn0z",
        "colab_type": "code",
        "colab": {
          "base_uri": "https://localhost:8080/",
          "height": 166
        },
        "outputId": "eaa9f082-b23d-4593-c31c-bead3b20f0ae"
      },
      "source": [
        "!pip install mlrose"
      ],
      "execution_count": 2,
      "outputs": [
        {
          "output_type": "stream",
          "text": [
            "Collecting mlrose\n",
            "  Downloading https://files.pythonhosted.org/packages/0d/f8/79e77a40f6e8988e3ecc9ead8a28024ee43df9c99fce2209037c9e6f9e4a/mlrose-1.3.0-py3-none-any.whl\n",
            "Requirement already satisfied: sklearn in /usr/local/lib/python3.6/dist-packages (from mlrose) (0.0)\n",
            "Requirement already satisfied: scipy in /usr/local/lib/python3.6/dist-packages (from mlrose) (1.4.1)\n",
            "Requirement already satisfied: numpy in /usr/local/lib/python3.6/dist-packages (from mlrose) (1.18.4)\n",
            "Requirement already satisfied: scikit-learn in /usr/local/lib/python3.6/dist-packages (from sklearn->mlrose) (0.22.2.post1)\n",
            "Requirement already satisfied: joblib>=0.11 in /usr/local/lib/python3.6/dist-packages (from scikit-learn->sklearn->mlrose) (0.15.1)\n",
            "Installing collected packages: mlrose\n",
            "Successfully installed mlrose-1.3.0\n"
          ],
          "name": "stdout"
        }
      ]
    },
    {
      "cell_type": "code",
      "metadata": {
        "id": "F9PewF0owZsE",
        "colab_type": "code",
        "colab": {
          "base_uri": "https://localhost:8080/",
          "height": 70
        },
        "outputId": "3412e242-3278-4177-bf13-cf215ad05402"
      },
      "source": [
        "import mlrose\n",
        "import numpy as np\n"
      ],
      "execution_count": 3,
      "outputs": [
        {
          "output_type": "stream",
          "text": [
            "/usr/local/lib/python3.6/dist-packages/sklearn/externals/six.py:31: FutureWarning: The module is deprecated in version 0.21 and will be removed in version 0.23 since we've dropped support for Python 2.7. Please rely on the official version of six (https://pypi.org/project/six/).\n",
            "  \"(https://pypi.org/project/six/).\", FutureWarning)\n"
          ],
          "name": "stderr"
        }
      ]
    },
    {
      "cell_type": "code",
      "metadata": {
        "id": "f3Ka9gnMyh8A",
        "colab_type": "code",
        "colab": {
          "base_uri": "https://localhost:8080/",
          "height": 33
        },
        "outputId": "b5cad2d7-2093-4272-88b2-39acd1368c97"
      },
      "source": [
        "\n",
        "# Create list of city coordinates\n",
        "coords_list = [(1, 1), (4, 2), (5, 2), (6, 4), (4, 4), (3, 6), (1, 5), (2, 3)]\n",
        "\n",
        "# Initialize fitness function object using coords_list\n",
        "fitness_coords = mlrose.TravellingSales(coords = coords_list)\n",
        "\n",
        "print(fitness_coords)"
      ],
      "execution_count": 7,
      "outputs": [
        {
          "output_type": "stream",
          "text": [
            "<mlrose.fitness.TravellingSales object at 0x7f336da83b70>\n"
          ],
          "name": "stdout"
        }
      ]
    },
    {
      "cell_type": "code",
      "metadata": {
        "id": "vwFJ-QBL2MVj",
        "colab_type": "code",
        "colab": {
          "base_uri": "https://localhost:8080/",
          "height": 384
        },
        "outputId": "53dbf78f-ea36-43c9-ec10-6d3b35d2185d"
      },
      "source": [
        "\"\"\"Simple travelling salesman problem between cities.\"\"\"\n",
        "\n",
        "!pip install ortools\n",
        "from __future__ import print_function\n",
        "from ortools.constraint_solver import routing_enums_pb2\n",
        "from ortools.constraint_solver import pywrapcp\n",
        "\n",
        "\n",
        "\n",
        "def create_data_model():\n",
        "    \"\"\"Stores the data for the problem.\"\"\"\n",
        "    data = {}\n",
        "    data['distance_matrix'] = [\n",
        "        [0, 2451, 713, 1018, 1631, 1374, 2408, 213, 2571, 875, 1420, 2145, 1972],\n",
        "        [2451, 0, 1745, 1524, 831, 1240, 959, 2596, 403, 1589, 1374, 357, 579],\n",
        "        [713, 1745, 0, 355, 920, 803, 1737, 851, 1858, 262, 940, 1453, 1260],\n",
        "        [1018, 1524, 355, 0, 700, 862, 1395, 1123, 1584, 466, 1056, 1280, 987],\n",
        "        [1631, 831, 920, 700, 0, 663, 1021, 1769, 949, 796, 879, 586, 371],\n",
        "        [1374, 1240, 803, 862, 663, 0, 1681, 1551, 1765, 547, 225, 887, 999],\n",
        "        [2408, 959, 1737, 1395, 1021, 1681, 0, 2493, 678, 1724, 1891, 1114, 701],\n",
        "        [213, 2596, 851, 1123, 1769, 1551, 2493, 0, 2699, 1038, 1605, 2300, 2099],\n",
        "        [2571, 403, 1858, 1584, 949, 1765, 678, 2699, 0, 1744, 1645, 653, 600],\n",
        "        [875, 1589, 262, 466, 796, 547, 1724, 1038, 1744, 0, 679, 1272, 1162],\n",
        "        [1420, 1374, 940, 1056, 879, 225, 1891, 1605, 1645, 679, 0, 1017, 1200],\n",
        "        [2145, 357, 1453, 1280, 586, 887, 1114, 2300, 653, 1272, 1017, 0, 504],\n",
        "        [1972, 579, 1260, 987, 371, 999, 701, 2099, 600, 1162, 1200, 504, 0],\n",
        "    ]  # yapf: disable\n",
        "    data['num_vehicles'] = 1\n",
        "    data['depot'] = 0\n",
        "    return data\n",
        "\n",
        "\n",
        "def print_solution(manager, routing, solution):\n",
        "    \"\"\"Prints solution on console.\"\"\"\n",
        "    print('Objective: {} miles'.format(solution.ObjectiveValue()))\n",
        "    index = routing.Start(0)\n",
        "    plan_output = 'Route for vehicle 0:\\n'\n",
        "    route_distance = 0\n",
        "    while not routing.IsEnd(index):\n",
        "        plan_output += ' {} ->'.format(manager.IndexToNode(index))\n",
        "        previous_index = index\n",
        "        index = solution.Value(routing.NextVar(index))\n",
        "        route_distance += routing.GetArcCostForVehicle(previous_index, index, 0)\n",
        "    plan_output += ' {}\\n'.format(manager.IndexToNode(index))\n",
        "    print(plan_output)\n",
        "    plan_output += 'Route distance: {}miles\\n'.format(route_distance)\n",
        "\n",
        "\n",
        "def main():\n",
        "    \"\"\"Entry point of the program.\"\"\"\n",
        "    # Instantiate the data problem.\n",
        "    data = create_data_model()\n",
        "\n",
        "    # Create the routing index manager.\n",
        "    manager = pywrapcp.RoutingIndexManager(len(data['distance_matrix']),\n",
        "                                           data['num_vehicles'], data['depot'])\n",
        "\n",
        "    # Create Routing Model.\n",
        "    routing = pywrapcp.RoutingModel(manager)\n",
        "\n",
        "\n",
        "    def distance_callback(from_index, to_index):\n",
        "        \"\"\"Returns the distance between the two nodes.\"\"\"\n",
        "        # Convert from routing variable Index to distance matrix NodeIndex.\n",
        "        from_node = manager.IndexToNode(from_index)\n",
        "        to_node = manager.IndexToNode(to_index)\n",
        "        return data['distance_matrix'][from_node][to_node]\n",
        "\n",
        "    transit_callback_index = routing.RegisterTransitCallback(distance_callback)\n",
        "\n",
        "    # Define cost of each arc.\n",
        "    routing.SetArcCostEvaluatorOfAllVehicles(transit_callback_index)\n",
        "\n",
        "    # Setting first solution heuristic.\n",
        "    search_parameters = pywrapcp.DefaultRoutingSearchParameters()\n",
        "    search_parameters.first_solution_strategy = (\n",
        "        routing_enums_pb2.FirstSolutionStrategy.PATH_CHEAPEST_ARC)\n",
        "\n",
        "    # Solve the problem.\n",
        "    solution = routing.SolveWithParameters(search_parameters)\n",
        "\n",
        "    # Print solution on console.\n",
        "    if solution:\n",
        "        print_solution(manager, routing, solution)\n",
        "\n",
        "\n",
        "if __name__ == '__main__':\n",
        "    main()"
      ],
      "execution_count": 13,
      "outputs": [
        {
          "output_type": "stream",
          "text": [
            "Collecting ortools\n",
            "\u001b[?25l  Downloading https://files.pythonhosted.org/packages/1c/d5/c4382df6b6b978971f11287552f5c0acc54ea7bf8ce70a9c77d8a06531b2/ortools-7.6.7691-cp36-cp36m-manylinux1_x86_64.whl (28.9MB)\n",
            "\u001b[K     |████████████████████████████████| 28.9MB 144kB/s \n",
            "\u001b[?25hRequirement already satisfied: six>=1.10 in /usr/local/lib/python3.6/dist-packages (from ortools) (1.12.0)\n",
            "Collecting protobuf>=3.11.2\n",
            "\u001b[?25l  Downloading https://files.pythonhosted.org/packages/28/05/9867ef8eafd12265267bee138fa2c46ebf34a276ea4cbe184cba4c606e8b/protobuf-3.12.2-cp36-cp36m-manylinux1_x86_64.whl (1.3MB)\n",
            "\u001b[K     |████████████████████████████████| 1.3MB 43.7MB/s \n",
            "\u001b[?25hRequirement already satisfied: setuptools in /usr/local/lib/python3.6/dist-packages (from protobuf>=3.11.2->ortools) (47.1.1)\n",
            "Installing collected packages: protobuf, ortools\n",
            "  Found existing installation: protobuf 3.10.0\n",
            "    Uninstalling protobuf-3.10.0:\n",
            "      Successfully uninstalled protobuf-3.10.0\n",
            "Successfully installed ortools-7.6.7691 protobuf-3.12.2\n"
          ],
          "name": "stdout"
        },
        {
          "output_type": "display_data",
          "data": {
            "application/vnd.colab-display-data+json": {
              "pip_warning": {
                "packages": [
                  "google"
                ]
              }
            }
          },
          "metadata": {
            "tags": []
          }
        },
        {
          "output_type": "stream",
          "text": [
            "Objective: 7293 miles\n",
            "Route for vehicle 0:\n",
            " 0 -> 7 -> 2 -> 3 -> 4 -> 12 -> 6 -> 8 -> 1 -> 11 -> 10 -> 5 -> 9 -> 0\n",
            "\n"
          ],
          "name": "stdout"
        }
      ]
    },
    {
      "cell_type": "markdown",
      "metadata": {
        "id": "konOh16K3HEP",
        "colab_type": "text"
      },
      "source": [
        "## Drilling Hole Problem"
      ]
    },
    {
      "cell_type": "code",
      "metadata": {
        "id": "XKvRowNa68Bj",
        "colab_type": "code",
        "colab": {}
      },
      "source": [
        "\"\"\"Building Visualizer for TSP\"\"\"\n",
        "\n",
        "import matplotlib.pyplot as plt\n",
        "\n",
        "def plotTSP(path, points, num_iters=1):\n",
        "\n",
        "    \"\"\"\n",
        "    path: List of lists with the different orders in which the nodes are visited\n",
        "    points: coordinates for the different nodes\n",
        "    num_iters: number of paths that are in the path list\n",
        "    \n",
        "    \"\"\"\n",
        "\n",
        "    # Unpack the primary TSP path and transform it into a list of ordered \n",
        "    # coordinates\n",
        "\n",
        "    x = []; y = []\n",
        "    for i in paths[0]:\n",
        "        x.append(points[i][0])\n",
        "        y.append(points[i][1])\n",
        "    \n",
        "    plt.plot(x, y, 'co')\n",
        "\n",
        "    # Set a scale for the arrow heads (there should be a reasonable default for this, WTF?)\n",
        "    a_scale = float(max(x))/float(100)\n",
        "\n",
        "    # Draw the older paths, if provided\n",
        "    if num_iters > 1:\n",
        "\n",
        "        for i in range(1, num_iters):\n",
        "\n",
        "            # Transform the old paths into a list of coordinates\n",
        "            xi = []; yi = [];\n",
        "            for j in paths[i]:\n",
        "                xi.append(points[j][0])\n",
        "                yi.append(points[j][1])\n",
        "\n",
        "            plt.arrow(xi[-1], yi[-1], (xi[0] - xi[-1]), (yi[0] - yi[-1]), \n",
        "                    head_width = a_scale, color = 'r', \n",
        "                    length_includes_head = True, ls = 'dashed',\n",
        "                    width = 0.001/float(num_iters))\n",
        "            for i in range(0, len(x) - 1):\n",
        "                plt.arrow(xi[i], yi[i], (xi[i+1] - xi[i]), (yi[i+1] - yi[i]),\n",
        "                        head_width = a_scale, color = 'r', length_includes_head = True,\n",
        "                        ls = 'dashed', width = 0.001/float(num_iters))\n",
        "\n",
        "    # Draw the primary path for the TSP problem\n",
        "    plt.arrow(x[-1], y[-1], (x[0] - x[-1]), (y[0] - y[-1]), head_width = a_scale, \n",
        "            color ='g', length_includes_head=True)\n",
        "    for i in range(0,len(x)-1):\n",
        "        plt.arrow(x[i], y[i], (x[i+1] - x[i]), (y[i+1] - y[i]), head_width = a_scale,\n",
        "                color = 'g', length_includes_head = True)\n",
        "\n",
        "    #Set axis too slitghtly larger than the set of x and y\n",
        "    plt.xlim(0, max(x)*1.1)\n",
        "    plt.ylim(0, max(y)*1.1)\n",
        "    plt.show()\n",
        "\n"
      ],
      "execution_count": 0,
      "outputs": []
    },
    {
      "cell_type": "code",
      "metadata": {
        "id": "dWMX1vsQ5Qex",
        "colab_type": "code",
        "colab": {
          "base_uri": "https://localhost:8080/",
          "height": 103
        },
        "outputId": "26651fab-f18e-421d-a291-96c471c38ffa"
      },
      "source": [
        "\"\"\"Simple travelling salesman problem on a circuit board.\"\"\"\n",
        "\n",
        "from __future__ import print_function\n",
        "import math\n",
        "from ortools.constraint_solver import routing_enums_pb2\n",
        "from ortools.constraint_solver import pywrapcp\n",
        "\n",
        "\n",
        "def create_data_model():\n",
        "    \"\"\"Stores the data for the problem.\"\"\"\n",
        "    data = {}\n",
        "    # Locations in block units\n",
        "    data['locations'] = [\n",
        "        (288, 149), (288, 129), (270, 133), (256, 141), (256, 157), (246, 157),\n",
        "        (236, 169), (228, 169), (228, 161), (220, 169), (212, 169), (204, 169),\n",
        "        (196, 169), (188, 169), (196, 161), (188, 145), (172, 145), (164, 145),\n",
        "        (156, 145), (148, 145), (140, 145), (148, 169), (164, 169), (172, 169),\n",
        "        (156, 169), (140, 169), (132, 169), (124, 169), (116, 161), (104, 153),\n",
        "        (104, 161), (104, 169), (90, 165), (80, 157), (64, 157), (64, 165),\n",
        "        (56, 169), (56, 161), (56, 153), (56, 145), (56, 137), (56, 129),\n",
        "        (56, 121), (40, 121), (40, 129), (40, 137), (40, 145), (40, 153),\n",
        "        (40, 161), (40, 169), (32, 169), (32, 161), (32, 153), (32, 145),\n",
        "        (32, 137), (32, 129), (32, 121), (32, 113), (40, 113), (56, 113),\n",
        "        (56, 105), (48, 99), (40, 99), (32, 97), (32, 89), (24, 89),\n",
        "        (16, 97), (16, 109), (8, 109), (8, 97), (8, 89), (8, 81),\n",
        "        (8, 73), (8, 65), (8, 57), (16, 57), (8, 49), (8, 41),\n",
        "        (24, 45), (32, 41), (32, 49), (32, 57), (32, 65), (32, 73),\n",
        "        (32, 81), (40, 83), (40, 73), (40, 63), (40, 51), (44, 43),\n",
        "        (44, 35), (44, 27), (32, 25), (24, 25), (16, 25), (16, 17),\n",
        "        (24, 17), (32, 17), (44, 11), (56, 9), (56, 17), (56, 25),\n",
        "        (56, 33), (56, 41), (64, 41), (72, 41), (72, 49), (56, 49),\n",
        "        (48, 51), (56, 57), (56, 65), (48, 63), (48, 73), (56, 73),\n",
        "        (56, 81), (48, 83), (56, 89), (56, 97), (104, 97), (104, 105),\n",
        "        (104, 113), (104, 121), (104, 129), (104, 137), (104, 145), (116, 145),\n",
        "        (124, 145), (132, 145), (132, 137), (140, 137), (148, 137), (156, 137),\n",
        "        (164, 137), (172, 125), (172, 117), (172, 109), (172, 101), (172, 93),\n",
        "        (172, 85), (180, 85), (180, 77), (180, 69), (180, 61), (180, 53),\n",
        "        (172, 53), (172, 61), (172, 69), (172, 77), (164, 81), (148, 85),\n",
        "        (124, 85), (124, 93), (124, 109), (124, 125), (124, 117), (124, 101),\n",
        "        (104, 89), (104, 81), (104, 73), (104, 65), (104, 49), (104, 41),\n",
        "        (104, 33), (104, 25), (104, 17), (92, 9), (80, 9), (72, 9),\n",
        "        (64, 21), (72, 25), (80, 25), (80, 25), (80, 41), (88, 49),\n",
        "        (104, 57), (124, 69), (124, 77), (132, 81), (140, 65), (132, 61),\n",
        "        (124, 61), (124, 53), (124, 45), (124, 37), (124, 29), (132, 21),\n",
        "        (124, 21), (120, 9), (128, 9), (136, 9), (148, 9), (162, 9),\n",
        "        (156, 25), (172, 21), (180, 21), (180, 29), (172, 29), (172, 37),\n",
        "        (172, 45), (180, 45), (180, 37), (188, 41), (196, 49), (204, 57),\n",
        "        (212, 65), (220, 73), (228, 69), (228, 77), (236, 77), (236, 69),\n",
        "        (236, 61), (228, 61), (228, 53), (236, 53), (236, 45), (228, 45),\n",
        "        (228, 37), (236, 37), (236, 29), (228, 29), (228, 21), (236, 21),\n",
        "        (252, 21), (260, 29), (260, 37), (260, 45), (260, 53), (260, 61),\n",
        "        (260, 69), (260, 77), (276, 77), (276, 69), (276, 61), (276, 53),\n",
        "        (284, 53), (284, 61), (284, 69), (284, 77), (284, 85), (284, 93),\n",
        "        (284, 101), (288, 109), (280, 109), (276, 101), (276, 93), (276, 85),\n",
        "        (268, 97), (260, 109), (252, 101), (260, 93), (260, 85), (236, 85),\n",
        "        (228, 85), (228, 93), (236, 93), (236, 101), (228, 101), (228, 109),\n",
        "        (228, 117), (228, 125), (220, 125), (212, 117), (204, 109), (196, 101),\n",
        "        (188, 93), (180, 93), (180, 101), (180, 109), (180, 117), (180, 125),\n",
        "        (196, 145), (204, 145), (212, 145), (220, 145), (228, 145), (236, 145),\n",
        "        (246, 141), (252, 125), (260, 129), (280, 133)\n",
        "    ]  # yapf: disable\n",
        "    data['num_vehicles'] = 1\n",
        "    data['depot'] = 0\n",
        "    return data\n",
        "\n",
        "\n",
        "def compute_euclidean_distance_matrix(locations):\n",
        "    \"\"\"Creates callback to return distance between points.\"\"\"\n",
        "    distances = {}\n",
        "    for from_counter, from_node in enumerate(locations):\n",
        "        distances[from_counter] = {}\n",
        "        for to_counter, to_node in enumerate(locations):\n",
        "            if from_counter == to_counter:\n",
        "                distances[from_counter][to_counter] = 0\n",
        "            else:\n",
        "                # Euclidean distance\n",
        "                distances[from_counter][to_counter] = (int(\n",
        "                    math.hypot((from_node[0] - to_node[0]),\n",
        "                               (from_node[1] - to_node[1]))))\n",
        "    return distances\n",
        "\n",
        "\n",
        "def print_solution(manager, routing, solution):\n",
        "    \"\"\"Prints solution on console.\"\"\"\n",
        "    print('Objective: {}'.format(solution.ObjectiveValue()))\n",
        "    index = routing.Start(0)\n",
        "    plan_output = 'Route:\\n'\n",
        "    route_distance = 0\n",
        "    while not routing.IsEnd(index):\n",
        "        plan_output += ' {} ->'.format(manager.IndexToNode(index))\n",
        "        previous_index = index\n",
        "        index = solution.Value(routing.NextVar(index))\n",
        "        route_distance += routing.GetArcCostForVehicle(previous_index, index, 0)\n",
        "    plan_output += ' {}\\n'.format(manager.IndexToNode(index))\n",
        "    print(plan_output)\n",
        "    plan_output += 'Objective: {}m\\n'.format(route_distance)\n",
        "\n",
        "\n",
        "def main():\n",
        "    \"\"\"Entry point of the program.\"\"\"\n",
        "    # Instantiate the data problem.\n",
        "    data = create_data_model()\n",
        "\n",
        "    # Create the routing index manager.\n",
        "    manager = pywrapcp.RoutingIndexManager(len(data['locations']),\n",
        "                                           data['num_vehicles'], data['depot'])\n",
        "\n",
        "    # Create Routing Model.\n",
        "    routing = pywrapcp.RoutingModel(manager)\n",
        "\n",
        "    distance_matrix = compute_euclidean_distance_matrix(data['locations'])\n",
        "\n",
        "    def distance_callback(from_index, to_index):\n",
        "        \"\"\"Returns the distance between the two nodes.\"\"\"\n",
        "        # Convert from routing variable Index to distance matrix NodeIndex.\n",
        "        from_node = manager.IndexToNode(from_index)\n",
        "        to_node = manager.IndexToNode(to_index)\n",
        "        return distance_matrix[from_node][to_node]\n",
        "\n",
        "    transit_callback_index = routing.RegisterTransitCallback(distance_callback)\n",
        "\n",
        "    # Define cost of each arc.\n",
        "    routing.SetArcCostEvaluatorOfAllVehicles(transit_callback_index)\n",
        "\n",
        "    # Setting first solution heuristic.\n",
        "    search_parameters = pywrapcp.DefaultRoutingSearchParameters()\n",
        "    search_parameters.first_solution_strategy = (\n",
        "        routing_enums_pb2.FirstSolutionStrategy.PATH_CHEAPEST_ARC)\n",
        "\n",
        "    # Solve the problem.\n",
        "    solution = routing.SolveWithParameters(search_parameters)\n",
        "\n",
        "    # Print solution on console.\n",
        "    if solution:\n",
        "        print_solution(manager, routing, solution)\n",
        "\n",
        "\n",
        "if __name__ == '__main__':\n",
        "    main()"
      ],
      "execution_count": 22,
      "outputs": [
        {
          "output_type": "stream",
          "text": [
            "Objective: 2790\n",
            "Route:\n",
            " 0 -> 1 -> 279 -> 2 -> 278 -> 277 -> 248 -> 247 -> 243 -> 242 -> 241 -> 240 -> 239 -> 238 -> 245 -> 244 -> 246 -> 249 -> 250 -> 229 -> 228 -> 231 -> 230 -> 237 -> 236 -> 235 -> 234 -> 233 -> 232 -> 227 -> 226 -> 225 -> 224 -> 223 -> 222 -> 218 -> 221 -> 220 -> 219 -> 202 -> 203 -> 204 -> 205 -> 207 -> 206 -> 211 -> 212 -> 215 -> 216 -> 217 -> 214 -> 213 -> 210 -> 209 -> 208 -> 251 -> 254 -> 255 -> 257 -> 256 -> 253 -> 252 -> 139 -> 140 -> 141 -> 142 -> 143 -> 199 -> 201 -> 200 -> 195 -> 194 -> 193 -> 191 -> 190 -> 189 -> 188 -> 187 -> 163 -> 164 -> 165 -> 166 -> 167 -> 168 -> 169 -> 171 -> 170 -> 172 -> 105 -> 106 -> 104 -> 103 -> 107 -> 109 -> 110 -> 113 -> 114 -> 116 -> 117 -> 61 -> 62 -> 63 -> 65 -> 64 -> 84 -> 85 -> 115 -> 112 -> 86 -> 83 -> 82 -> 87 -> 111 -> 108 -> 89 -> 90 -> 91 -> 102 -> 101 -> 100 -> 99 -> 98 -> 97 -> 96 -> 95 -> 94 -> 93 -> 92 -> 79 -> 88 -> 81 -> 80 -> 78 -> 77 -> 76 -> 74 -> 75 -> 73 -> 72 -> 71 -> 70 -> 69 -> 66 -> 68 -> 67 -> 57 -> 56 -> 55 -> 54 -> 53 -> 52 -> 51 -> 50 -> 49 -> 48 -> 47 -> 46 -> 45 -> 44 -> 43 -> 58 -> 60 -> 59 -> 42 -> 41 -> 40 -> 39 -> 38 -> 37 -> 36 -> 35 -> 34 -> 33 -> 32 -> 31 -> 30 -> 29 -> 124 -> 123 -> 122 -> 121 -> 120 -> 119 -> 118 -> 156 -> 157 -> 158 -> 173 -> 162 -> 161 -> 160 -> 174 -> 159 -> 150 -> 151 -> 155 -> 152 -> 154 -> 153 -> 128 -> 129 -> 130 -> 131 -> 18 -> 19 -> 20 -> 127 -> 126 -> 125 -> 28 -> 27 -> 26 -> 25 -> 21 -> 24 -> 22 -> 23 -> 13 -> 12 -> 14 -> 11 -> 10 -> 9 -> 7 -> 8 -> 6 -> 5 -> 275 -> 274 -> 273 -> 272 -> 271 -> 270 -> 15 -> 16 -> 17 -> 132 -> 149 -> 177 -> 176 -> 175 -> 178 -> 179 -> 180 -> 181 -> 182 -> 183 -> 184 -> 186 -> 185 -> 192 -> 196 -> 197 -> 198 -> 144 -> 145 -> 146 -> 147 -> 148 -> 138 -> 137 -> 136 -> 135 -> 134 -> 133 -> 269 -> 268 -> 267 -> 266 -> 265 -> 264 -> 263 -> 262 -> 261 -> 260 -> 258 -> 259 -> 276 -> 3 -> 4 -> 0\n",
            "\n"
          ],
          "name": "stdout"
        }
      ]
    }
  ]
}